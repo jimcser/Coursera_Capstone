{
 "cells": [
  {
   "cell_type": "markdown",
   "metadata": {},
   "source": [
    "# Getting data through the Foursquare API with Python #\n",
    "## Capstone Project for the IBM Data Science Certificate ##\n",
    "### Jim Cser, July 2020 ###\n"
   ]
  },
  {
   "cell_type": "markdown",
   "metadata": {},
   "source": [
    "## Business Proposal ##\n",
    "Your friend in New York City swears that coffee is the world's greatest beverage, and they want to spread the good word. In fact, they have been inspired to start a business specializing in leading coffee tourism adventures. The first tours are going to be operating in Brooklyn, so your friend needs to know which of those neighborhoods will have the greatest chance of success. "
   ]
  },
  {
   "cell_type": "markdown",
   "metadata": {},
   "source": [
    "## Data Science Solution ##\n",
    "As a data scientist, you are just the person to help! Making the best decision requires the best data, but where to start?  One good resource is the data provided by [Foursquare](https://foursquare.com/).  The Foursquare mobile application provides realtime, personalized recommendations for interesting places based on the user's location and browsing history."
   ]
  },
  {
   "cell_type": "markdown",
   "metadata": {},
   "source": [
    "### The Foursquare API ###\n",
    "\n",
    "The Foursquare data can be gathered programatically through its Application Program Interface (API). The API allows a developer to get real-time data from the Foursquare database of users, ratings, and venues.  An API is usually subdivided into 'endpoints', each of which contains related functions. A full list of what's available can be found one the [Places API Endpoints](https://developer.foursquare.com/docs/places-api/endpoints/) page."
   ]
  },
  {
   "cell_type": "markdown",
   "metadata": {},
   "source": [
    "### Running the Analysis ###\n",
    "\n",
    "The following is a walkthrough of one way to perform the analysis using Python:"
   ]
  },
  {
   "cell_type": "markdown",
   "metadata": {},
   "source": [
    "#### Import relevant Python libraries ####"
   ]
  },
  {
   "cell_type": "code",
   "execution_count": 87,
   "metadata": {},
   "outputs": [],
   "source": [
    "import pandas as pd\n",
    "import numpy as np\n",
    "from pandas.io.json import json_normalize"
   ]
  },
  {
   "cell_type": "markdown",
   "metadata": {},
   "source": [
    "#### Find a source for the geograohical centroids for each of the NYC neighborhoods in Brooklyn ####\n",
    "\n",
    "We will use CSV tables hosted by the City of New York:  \n",
    "Neighborhood Tabulation Areas (NTA) - [New York City Open Data](https://data.cityofnewyork.us/City-Government/Neighborhood-Tabulation-Areas-NTA-/cpf4-rkhq)\n"
   ]
  },
  {
   "cell_type": "code",
   "execution_count": 88,
   "metadata": {
    "scrolled": true
   },
   "outputs": [
    {
     "data": {
      "text/html": [
       "<div>\n",
       "<style scoped>\n",
       "    .dataframe tbody tr th:only-of-type {\n",
       "        vertical-align: middle;\n",
       "    }\n",
       "\n",
       "    .dataframe tbody tr th {\n",
       "        vertical-align: top;\n",
       "    }\n",
       "\n",
       "    .dataframe thead th {\n",
       "        text-align: right;\n",
       "    }\n",
       "</style>\n",
       "<table border=\"1\" class=\"dataframe\">\n",
       "  <thead>\n",
       "    <tr style=\"text-align: right;\">\n",
       "      <th></th>\n",
       "      <th>the_geom</th>\n",
       "      <th>Name</th>\n",
       "      <th>Borough</th>\n",
       "    </tr>\n",
       "  </thead>\n",
       "  <tbody>\n",
       "    <tr>\n",
       "      <th>46</th>\n",
       "      <td>POINT (-74.03062069353821 40.62580106501069)</td>\n",
       "      <td>Bay Ridge</td>\n",
       "      <td>Brooklyn</td>\n",
       "    </tr>\n",
       "    <tr>\n",
       "      <th>47</th>\n",
       "      <td>POINT (-73.99517998380736 40.61100890202048)</td>\n",
       "      <td>Bensonhurst</td>\n",
       "      <td>Brooklyn</td>\n",
       "    </tr>\n",
       "    <tr>\n",
       "      <th>48</th>\n",
       "      <td>POINT (-74.01031618527792 40.64510294925433)</td>\n",
       "      <td>Sunset Park</td>\n",
       "      <td>Brooklyn</td>\n",
       "    </tr>\n",
       "    <tr>\n",
       "      <th>49</th>\n",
       "      <td>POINT (-73.954240931274 40.730200984864744)</td>\n",
       "      <td>Greenpoint</td>\n",
       "      <td>Brooklyn</td>\n",
       "    </tr>\n",
       "    <tr>\n",
       "      <th>50</th>\n",
       "      <td>POINT (-73.97347087708452 40.59526001306597)</td>\n",
       "      <td>Gravesend</td>\n",
       "      <td>Brooklyn</td>\n",
       "    </tr>\n",
       "  </tbody>\n",
       "</table>\n",
       "</div>"
      ],
      "text/plain": [
       "                                        the_geom         Name   Borough\n",
       "46  POINT (-74.03062069353821 40.62580106501069)    Bay Ridge  Brooklyn\n",
       "47  POINT (-73.99517998380736 40.61100890202048)  Bensonhurst  Brooklyn\n",
       "48  POINT (-74.01031618527792 40.64510294925433)  Sunset Park  Brooklyn\n",
       "49   POINT (-73.954240931274 40.730200984864744)   Greenpoint  Brooklyn\n",
       "50  POINT (-73.97347087708452 40.59526001306597)    Gravesend  Brooklyn"
      ]
     },
     "execution_count": 88,
     "metadata": {},
     "output_type": "execute_result"
    }
   ],
   "source": [
    "# read in data\n",
    "df_nyc = pd.read_csv('https://data.cityofnewyork.us/api/views/xyye-rtrs/rows.csv')[['the_geom','Name','Borough']]\n",
    "df_nyc = df_nyc.loc[df_nyc['Borough'] == 'Brooklyn']\n",
    "df_nyc.head()\n"
   ]
  },
  {
   "cell_type": "markdown",
   "metadata": {},
   "source": [
    "#### Parse the 'the_geom' column of the returned results to get latitute and longitude ####"
   ]
  },
  {
   "cell_type": "code",
   "execution_count": 89,
   "metadata": {
    "scrolled": true
   },
   "outputs": [
    {
     "data": {
      "text/html": [
       "<div>\n",
       "<style scoped>\n",
       "    .dataframe tbody tr th:only-of-type {\n",
       "        vertical-align: middle;\n",
       "    }\n",
       "\n",
       "    .dataframe tbody tr th {\n",
       "        vertical-align: top;\n",
       "    }\n",
       "\n",
       "    .dataframe thead th {\n",
       "        text-align: right;\n",
       "    }\n",
       "</style>\n",
       "<table border=\"1\" class=\"dataframe\">\n",
       "  <thead>\n",
       "    <tr style=\"text-align: right;\">\n",
       "      <th></th>\n",
       "      <th>Name</th>\n",
       "      <th>Borough</th>\n",
       "      <th>lat</th>\n",
       "      <th>lng</th>\n",
       "    </tr>\n",
       "  </thead>\n",
       "  <tbody>\n",
       "    <tr>\n",
       "      <th>46</th>\n",
       "      <td>Bay Ridge</td>\n",
       "      <td>Brooklyn</td>\n",
       "      <td>40.625801</td>\n",
       "      <td>-74.030621</td>\n",
       "    </tr>\n",
       "    <tr>\n",
       "      <th>47</th>\n",
       "      <td>Bensonhurst</td>\n",
       "      <td>Brooklyn</td>\n",
       "      <td>40.611009</td>\n",
       "      <td>-73.995180</td>\n",
       "    </tr>\n",
       "    <tr>\n",
       "      <th>48</th>\n",
       "      <td>Sunset Park</td>\n",
       "      <td>Brooklyn</td>\n",
       "      <td>40.645103</td>\n",
       "      <td>-74.010316</td>\n",
       "    </tr>\n",
       "    <tr>\n",
       "      <th>49</th>\n",
       "      <td>Greenpoint</td>\n",
       "      <td>Brooklyn</td>\n",
       "      <td>40.730201</td>\n",
       "      <td>-73.954241</td>\n",
       "    </tr>\n",
       "    <tr>\n",
       "      <th>50</th>\n",
       "      <td>Gravesend</td>\n",
       "      <td>Brooklyn</td>\n",
       "      <td>40.595260</td>\n",
       "      <td>-73.973471</td>\n",
       "    </tr>\n",
       "  </tbody>\n",
       "</table>\n",
       "</div>"
      ],
      "text/plain": [
       "           Name   Borough        lat        lng\n",
       "46    Bay Ridge  Brooklyn  40.625801 -74.030621\n",
       "47  Bensonhurst  Brooklyn  40.611009 -73.995180\n",
       "48  Sunset Park  Brooklyn  40.645103 -74.010316\n",
       "49   Greenpoint  Brooklyn  40.730201 -73.954241\n",
       "50    Gravesend  Brooklyn  40.595260 -73.973471"
      ]
     },
     "execution_count": 89,
     "metadata": {},
     "output_type": "execute_result"
    }
   ],
   "source": [
    "\n",
    "# define function to parse geometry column\n",
    "def split_name(name):\n",
    "    geom = name[7:-1]\n",
    "    lng,lat = geom.split()\n",
    "    return pd.Series({\n",
    "        'lat': lat,\n",
    "        'lng': lng\n",
    "    })\n",
    "\n",
    "# df_new has the new columns\n",
    "df_new = df_nyc['the_geom'].apply(split_name)\n",
    "\n",
    "nyc_latlng = pd.concat([df_nyc,df_new],axis=1)\n",
    "nyc_latlng.drop(\"the_geom\", axis = 1, inplace = True)\n",
    "\n",
    "# change lat, lng columns to type float\n",
    "nyc_latlng[['lat','lng']] = nyc_latlng[['lat','lng']].astype('float')\n",
    "nyc_latlng = pd.DataFrame(nyc_latlng)\n",
    "#nyc_latlng = nyc_latlng.set_index('Name')\n",
    "nyc_latlng.head()\n"
   ]
  },
  {
   "cell_type": "markdown",
   "metadata": {},
   "source": [
    "### Next, let's see how to search for venues which serve coffee: ###\n",
    "As an example, we will choose the 'Dumbo' Neighborhood in Brooklyn, and search within 200 meters of each neighborhood centroid:\n"
   ]
  },
  {
   "cell_type": "code",
   "execution_count": 90,
   "metadata": {},
   "outputs": [],
   "source": [
    "neighborhood = 'Dumbo'\n",
    "latitude = 40.703176\n",
    "longitude = -73.988753\n",
    "\n",
    "search_query = 'coffee'\n",
    "radius = 200\n",
    "CLIENT_ID = 'L2GRGZBNAVVZ4QC53S1TRRYU2DFSJKBK4UR0BNDY0QODGN5K' # your Foursquare ID\n",
    "CLIENT_SECRET = 'WNYRNNV0TSIMSQET1DGFC3DF40DBHN1NBIS0OCJH50YQ1LYU' # your Foursquare Secret\n",
    "VERSION = '20180604'\n",
    "\n",
    "LIMIT = 100\n",
    "\n",
    "url = 'https://api.foursquare.com/v2/venues/search?client_id={}&client_secret={}&ll={},{}&v={}&query={}&radius={}&limit={}'.format(CLIENT_ID, CLIENT_SECRET, latitude, longitude, VERSION, search_query, radius, LIMIT)\n"
   ]
  },
  {
   "cell_type": "markdown",
   "metadata": {},
   "source": [
    "The parameter 'URL' is the specific query sent to the Foursquare API server, using the sample values in the code above.\n",
    "\n",
    "More details of this endpoint can be found in [Search for Venues | Places API](https://developer.foursquare.com/docs/api-reference/venues/search/)."
   ]
  },
  {
   "cell_type": "code",
   "execution_count": 91,
   "metadata": {},
   "outputs": [
    {
     "data": {
      "text/html": [
       "<div>\n",
       "<style scoped>\n",
       "    .dataframe tbody tr th:only-of-type {\n",
       "        vertical-align: middle;\n",
       "    }\n",
       "\n",
       "    .dataframe tbody tr th {\n",
       "        vertical-align: top;\n",
       "    }\n",
       "\n",
       "    .dataframe thead th {\n",
       "        text-align: right;\n",
       "    }\n",
       "</style>\n",
       "<table border=\"1\" class=\"dataframe\">\n",
       "  <thead>\n",
       "    <tr style=\"text-align: right;\">\n",
       "      <th></th>\n",
       "      <th>categories</th>\n",
       "      <th>hasPerk</th>\n",
       "      <th>id</th>\n",
       "      <th>location.address</th>\n",
       "      <th>location.cc</th>\n",
       "      <th>location.city</th>\n",
       "      <th>location.country</th>\n",
       "      <th>location.crossStreet</th>\n",
       "      <th>location.distance</th>\n",
       "      <th>location.formattedAddress</th>\n",
       "      <th>location.labeledLatLngs</th>\n",
       "      <th>location.lat</th>\n",
       "      <th>location.lng</th>\n",
       "      <th>location.postalCode</th>\n",
       "      <th>location.state</th>\n",
       "      <th>name</th>\n",
       "      <th>referralId</th>\n",
       "      <th>venuePage.id</th>\n",
       "    </tr>\n",
       "  </thead>\n",
       "  <tbody>\n",
       "    <tr>\n",
       "      <th>0</th>\n",
       "      <td>[{'id': '4bf58dd8d48988d1e0931735', 'name': 'C...</td>\n",
       "      <td>False</td>\n",
       "      <td>5b19dc1e628c83002cacca4d</td>\n",
       "      <td>147 Front St</td>\n",
       "      <td>US</td>\n",
       "      <td>Brooklyn</td>\n",
       "      <td>United States</td>\n",
       "      <td>pearl</td>\n",
       "      <td>151</td>\n",
       "      <td>[147 Front St (pearl), Brooklyn, NY 11201, Uni...</td>\n",
       "      <td>[{'label': 'display', 'lat': 40.70273245188341...</td>\n",
       "      <td>40.702732</td>\n",
       "      <td>-73.987051</td>\n",
       "      <td>11201</td>\n",
       "      <td>NY</td>\n",
       "      <td>Ludwig Coffee®</td>\n",
       "      <td>v-1595121040</td>\n",
       "      <td>496940195</td>\n",
       "    </tr>\n",
       "    <tr>\n",
       "      <th>1</th>\n",
       "      <td>[{'id': '4bf58dd8d48988d117951735', 'name': 'C...</td>\n",
       "      <td>False</td>\n",
       "      <td>4db0a697fc60cfe27fb4b875</td>\n",
       "      <td>147 Front St</td>\n",
       "      <td>US</td>\n",
       "      <td>Brooklyn</td>\n",
       "      <td>United States</td>\n",
       "      <td>Jay Street</td>\n",
       "      <td>156</td>\n",
       "      <td>[147 Front St (Jay Street), Brooklyn, NY 11201...</td>\n",
       "      <td>[{'label': 'display', 'lat': 40.70252227783203...</td>\n",
       "      <td>40.702522</td>\n",
       "      <td>-73.987106</td>\n",
       "      <td>11201</td>\n",
       "      <td>NY</td>\n",
       "      <td>RITTER SPORT @the coffee box</td>\n",
       "      <td>v-1595121040</td>\n",
       "      <td>NaN</td>\n",
       "    </tr>\n",
       "    <tr>\n",
       "      <th>2</th>\n",
       "      <td>[{'id': '4bf58dd8d48988d1e0931735', 'name': 'C...</td>\n",
       "      <td>False</td>\n",
       "      <td>49e4a677f964a52014631fe3</td>\n",
       "      <td>67 Front St</td>\n",
       "      <td>US</td>\n",
       "      <td>Brooklyn</td>\n",
       "      <td>United States</td>\n",
       "      <td>at Main St</td>\n",
       "      <td>189</td>\n",
       "      <td>[67 Front St (at Main St), Brooklyn, NY 11201,...</td>\n",
       "      <td>[{'label': 'display', 'lat': 40.702694, 'lng':...</td>\n",
       "      <td>40.702694</td>\n",
       "      <td>-73.990906</td>\n",
       "      <td>11201</td>\n",
       "      <td>NY</td>\n",
       "      <td>Starbucks</td>\n",
       "      <td>v-1595121040</td>\n",
       "      <td>NaN</td>\n",
       "    </tr>\n",
       "    <tr>\n",
       "      <th>3</th>\n",
       "      <td>[{'id': '4bf58dd8d48988d1e0931735', 'name': 'C...</td>\n",
       "      <td>False</td>\n",
       "      <td>4dcc5861887714552bd47b34</td>\n",
       "      <td>25 Jay St</td>\n",
       "      <td>US</td>\n",
       "      <td>Brooklyn</td>\n",
       "      <td>United States</td>\n",
       "      <td>btwn Plymouth &amp; John St</td>\n",
       "      <td>215</td>\n",
       "      <td>[25 Jay St (btwn Plymouth &amp; John St), Brooklyn...</td>\n",
       "      <td>[{'label': 'display', 'lat': 40.70421760808286...</td>\n",
       "      <td>40.704218</td>\n",
       "      <td>-73.986597</td>\n",
       "      <td>11201</td>\n",
       "      <td>NY</td>\n",
       "      <td>Brooklyn Roasting Company</td>\n",
       "      <td>v-1595121040</td>\n",
       "      <td>48722666</td>\n",
       "    </tr>\n",
       "  </tbody>\n",
       "</table>\n",
       "</div>"
      ],
      "text/plain": [
       "                                          categories  hasPerk  \\\n",
       "0  [{'id': '4bf58dd8d48988d1e0931735', 'name': 'C...    False   \n",
       "1  [{'id': '4bf58dd8d48988d117951735', 'name': 'C...    False   \n",
       "2  [{'id': '4bf58dd8d48988d1e0931735', 'name': 'C...    False   \n",
       "3  [{'id': '4bf58dd8d48988d1e0931735', 'name': 'C...    False   \n",
       "\n",
       "                         id location.address location.cc location.city  \\\n",
       "0  5b19dc1e628c83002cacca4d     147 Front St          US      Brooklyn   \n",
       "1  4db0a697fc60cfe27fb4b875     147 Front St          US      Brooklyn   \n",
       "2  49e4a677f964a52014631fe3      67 Front St          US      Brooklyn   \n",
       "3  4dcc5861887714552bd47b34        25 Jay St          US      Brooklyn   \n",
       "\n",
       "  location.country     location.crossStreet  location.distance  \\\n",
       "0    United States                    pearl                151   \n",
       "1    United States               Jay Street                156   \n",
       "2    United States               at Main St                189   \n",
       "3    United States  btwn Plymouth & John St                215   \n",
       "\n",
       "                           location.formattedAddress  \\\n",
       "0  [147 Front St (pearl), Brooklyn, NY 11201, Uni...   \n",
       "1  [147 Front St (Jay Street), Brooklyn, NY 11201...   \n",
       "2  [67 Front St (at Main St), Brooklyn, NY 11201,...   \n",
       "3  [25 Jay St (btwn Plymouth & John St), Brooklyn...   \n",
       "\n",
       "                             location.labeledLatLngs  location.lat  \\\n",
       "0  [{'label': 'display', 'lat': 40.70273245188341...     40.702732   \n",
       "1  [{'label': 'display', 'lat': 40.70252227783203...     40.702522   \n",
       "2  [{'label': 'display', 'lat': 40.702694, 'lng':...     40.702694   \n",
       "3  [{'label': 'display', 'lat': 40.70421760808286...     40.704218   \n",
       "\n",
       "   location.lng location.postalCode location.state  \\\n",
       "0    -73.987051               11201             NY   \n",
       "1    -73.987106               11201             NY   \n",
       "2    -73.990906               11201             NY   \n",
       "3    -73.986597               11201             NY   \n",
       "\n",
       "                           name    referralId venuePage.id  \n",
       "0                Ludwig Coffee®  v-1595121040    496940195  \n",
       "1  RITTER SPORT @the coffee box  v-1595121040          NaN  \n",
       "2                     Starbucks  v-1595121040          NaN  \n",
       "3     Brooklyn Roasting Company  v-1595121040     48722666  "
      ]
     },
     "execution_count": 91,
     "metadata": {},
     "output_type": "execute_result"
    }
   ],
   "source": [
    "import requests # library to handle requests\n",
    "results = requests.get(url).json()\n",
    "venues = results['response']['venues']\n",
    "# tranform venues into a dataframe\n",
    "df_venues_raw = json_normalize(venues)\n",
    "df_venues_raw.head()"
   ]
  },
  {
   "cell_type": "markdown",
   "metadata": {},
   "source": [
    "#### For the returned table, expand the lists contained in the 'category' fields, and select only a subset of the columns: ####"
   ]
  },
  {
   "cell_type": "code",
   "execution_count": 92,
   "metadata": {
    "scrolled": true
   },
   "outputs": [
    {
     "data": {
      "text/html": [
       "<div>\n",
       "<style scoped>\n",
       "    .dataframe tbody tr th:only-of-type {\n",
       "        vertical-align: middle;\n",
       "    }\n",
       "\n",
       "    .dataframe tbody tr th {\n",
       "        vertical-align: top;\n",
       "    }\n",
       "\n",
       "    .dataframe thead th {\n",
       "        text-align: right;\n",
       "    }\n",
       "</style>\n",
       "<table border=\"1\" class=\"dataframe\">\n",
       "  <thead>\n",
       "    <tr style=\"text-align: right;\">\n",
       "      <th></th>\n",
       "      <th>id</th>\n",
       "      <th>name</th>\n",
       "      <th>categories</th>\n",
       "      <th>lat</th>\n",
       "      <th>lng</th>\n",
       "    </tr>\n",
       "  </thead>\n",
       "  <tbody>\n",
       "    <tr>\n",
       "      <th>0</th>\n",
       "      <td>5b19dc1e628c83002cacca4d</td>\n",
       "      <td>Ludwig Coffee®</td>\n",
       "      <td>Coffee Shop</td>\n",
       "      <td>40.702732</td>\n",
       "      <td>-73.987051</td>\n",
       "    </tr>\n",
       "    <tr>\n",
       "      <th>1</th>\n",
       "      <td>4db0a697fc60cfe27fb4b875</td>\n",
       "      <td>RITTER SPORT @the coffee box</td>\n",
       "      <td>Candy Store</td>\n",
       "      <td>40.702522</td>\n",
       "      <td>-73.987106</td>\n",
       "    </tr>\n",
       "    <tr>\n",
       "      <th>2</th>\n",
       "      <td>49e4a677f964a52014631fe3</td>\n",
       "      <td>Starbucks</td>\n",
       "      <td>Coffee Shop</td>\n",
       "      <td>40.702694</td>\n",
       "      <td>-73.990906</td>\n",
       "    </tr>\n",
       "    <tr>\n",
       "      <th>3</th>\n",
       "      <td>4dcc5861887714552bd47b34</td>\n",
       "      <td>Brooklyn Roasting Company</td>\n",
       "      <td>Coffee Shop</td>\n",
       "      <td>40.704218</td>\n",
       "      <td>-73.986597</td>\n",
       "    </tr>\n",
       "  </tbody>\n",
       "</table>\n",
       "</div>"
      ],
      "text/plain": [
       "                         id                          name   categories  \\\n",
       "0  5b19dc1e628c83002cacca4d                Ludwig Coffee®  Coffee Shop   \n",
       "1  4db0a697fc60cfe27fb4b875  RITTER SPORT @the coffee box  Candy Store   \n",
       "2  49e4a677f964a52014631fe3                     Starbucks  Coffee Shop   \n",
       "3  4dcc5861887714552bd47b34     Brooklyn Roasting Company  Coffee Shop   \n",
       "\n",
       "         lat        lng  \n",
       "0  40.702732 -73.987051  \n",
       "1  40.702522 -73.987106  \n",
       "2  40.702694 -73.990906  \n",
       "3  40.704218 -73.986597  "
      ]
     },
     "execution_count": 92,
     "metadata": {},
     "output_type": "execute_result"
    }
   ],
   "source": [
    "# keep only columns that include venue name, and anything that is associated with location\n",
    "filtered_columns = ['id','name', 'categories', 'location.lat', 'location.lng']\n",
    "df_venues = df_venues_raw.loc[:, filtered_columns]\n",
    "\n",
    "# function that extracts the category of the venue\n",
    "def get_category_type(row):\n",
    "    try:\n",
    "        categories_list = row['categories']\n",
    "    except:\n",
    "        categories_list = row['venue.categories']\n",
    "        \n",
    "    if len(categories_list) == 0:\n",
    "        return None\n",
    "    else:\n",
    "        return categories_list[0]['name']\n",
    "\n",
    "# filter the category for each row\n",
    "df_venues['categories'] = df_venues.apply(get_category_type, axis=1)\n",
    "\n",
    "# clean column names by keeping only last term\n",
    "df_venues.columns = [column.split('.')[-1] for column in df_venues.columns]\n",
    "\n",
    "df_venues.head()"
   ]
  },
  {
   "cell_type": "markdown",
   "metadata": {},
   "source": [
    "\n",
    "#### Find the average rating of all the venues in a neighborhood ####\n",
    "Since we only want the best coffee for the people on our tour,  just taking the count of all the coffee venues is not enough. -- we want to know the ratings of the venues.  So now, we write another Foursquare API request for venue ratings, loop though all the coffee venues, and take the mean of all those who had a rating.  For the Dumbo Neighborhood, we get an average rating of 7.6 "
   ]
  },
  {
   "cell_type": "code",
   "execution_count": 93,
   "metadata": {},
   "outputs": [
    {
     "data": {
      "text/plain": [
       "7.6"
      ]
     },
     "execution_count": 93,
     "metadata": {},
     "output_type": "execute_result"
    }
   ],
   "source": [
    "# now let's loop through venues for the neighborhood:\n",
    "id_list = df_venues['id']\n",
    "rating_list = []\n",
    "for ven_id in id_list:   \n",
    "        try:\n",
    "            url = 'https://api.foursquare.com/v2/venues/{}?client_id={}&client_secret={}&v={}'.format(ven_id, CLIENT_ID, CLIENT_SECRET, VERSION)\n",
    "            results = requests.get(url).json()\n",
    "            rating = results['response']['venue']['rating']\n",
    "        except:\n",
    "            rating = 0\n",
    "           \n",
    "        rating_list.append(rating)\n",
    "\n",
    "df_venues['rating'] = rating_list\n",
    "\n",
    "# get mean rating where rating > 0\n",
    "avg_rating = df_venues[df_venues['rating'] > 0]['rating'].mean(axis=0)\n",
    "if pd.isnull(avg_rating):\n",
    "    avg_rating = 0\n",
    "    \n",
    "round(avg_rating,3)"
   ]
  },
  {
   "cell_type": "markdown",
   "metadata": {},
   "source": [
    "### Let's put it all together!  ###"
   ]
  },
  {
   "cell_type": "code",
   "execution_count": 94,
   "metadata": {
    "scrolled": false
   },
   "outputs": [
    {
     "name": "stderr",
     "output_type": "stream",
     "text": [
      "/opt/conda/envs/Python36/lib/python3.6/site-packages/numpy/core/fromnumeric.py:2920: RuntimeWarning: Mean of empty slice.\n",
      "  out=out, **kwargs)\n",
      "/opt/conda/envs/Python36/lib/python3.6/site-packages/numpy/core/_methods.py:85: RuntimeWarning: invalid value encountered in double_scalars\n",
      "  ret = ret.dtype.type(ret / rcount)\n"
     ]
    }
   ],
   "source": [
    "search_query = 'coffee'\n",
    "radius = 500\n",
    "\n",
    "neighbor_ratings = nyc_latlng.copy()\n",
    "neighbor_ratings = neighbor_ratings\n",
    "\n",
    "\n",
    "avg_nh_rating = []\n",
    "\n",
    "# function that extracts the category of the venue\n",
    "def get_category_type(row):\n",
    "    try:\n",
    "        categories_list = row['categories']\n",
    "    except:\n",
    "        categories_list = row['venue.categories']\n",
    "        \n",
    "    if len(categories_list) == 0:\n",
    "        return None\n",
    "    else:\n",
    "        return categories_list[0]['name']\n",
    "\n",
    "# Loop through neighborhoods  (this should really be a vector operation, though)\n",
    "i = 0\n",
    "\n",
    "for nh in neighbor_ratings.index.values:\n",
    "    latitude = neighbor_ratings.loc[nh,'lat']\n",
    "    longitude = neighbor_ratings.loc[nh,'lng']\n",
    "\n",
    "\n",
    "    url = 'https://api.foursquare.com/v2/venues/search?client_id={}&client_secret={}&ll={},{}&v={}&query={}&radius={}&limit={}'.format(CLIENT_ID, CLIENT_SECRET, latitude, longitude, VERSION, search_query, radius, LIMIT)\n",
    "    \n",
    "    try:\n",
    "        results = requests.get(url).json()\n",
    "        venues = results['response']['venues']\n",
    "        df_venues = json_normalize(venues)\n",
    "    except:\n",
    "        df_venues = []\n",
    "        \n",
    "        \n",
    "    if len(df_venues) == 0:\n",
    "        avg_rating = 0\n",
    "        \n",
    "    elif df_venues.shape[0] == 0:\n",
    "        avg_rating = 0\n",
    "    \n",
    "    else:    \n",
    "        id_list = df_venues['id']\n",
    "        \n",
    "        rating_list = []\n",
    "        for ven_id in id_list:   \n",
    "            try:\n",
    "                url = 'https://api.foursquare.com/v2/venues/{}?client_id={}&client_secret={}&v={}'.format(ven_id, CLIENT_ID, CLIENT_SECRET, VERSION)\n",
    "                results = requests.get(url).json()\n",
    "                rating = results['response']['venue']['rating']\n",
    "            except:\n",
    "                rating = 0\n",
    "            \n",
    "            if rating > 0 :\n",
    "                rating_list.append(rating)          \n",
    "            \n",
    "            avg_rating = np.mean(rating_list)\n",
    "            if pd.isnull(avg_rating):\n",
    "                avg_rating = 0\n",
    "    \n",
    "    avg_nh_rating.append(avg_rating)    \n",
    "    #print(str(i) + \"  \" + nh + \"  \" + str(avg_rating))\n",
    "\n",
    "    i = i+1\n",
    "        \n",
    "neighbor_ratings['avg_rating'] = avg_nh_rating\n",
    "\n"
   ]
  },
  {
   "cell_type": "markdown",
   "metadata": {},
   "source": [
    "#### Sort by average rating and look at the top results: ###"
   ]
  },
  {
   "cell_type": "code",
   "execution_count": 95,
   "metadata": {},
   "outputs": [
    {
     "data": {
      "text/html": [
       "<div>\n",
       "<style scoped>\n",
       "    .dataframe tbody tr th:only-of-type {\n",
       "        vertical-align: middle;\n",
       "    }\n",
       "\n",
       "    .dataframe tbody tr th {\n",
       "        vertical-align: top;\n",
       "    }\n",
       "\n",
       "    .dataframe thead th {\n",
       "        text-align: right;\n",
       "    }\n",
       "</style>\n",
       "<table border=\"1\" class=\"dataframe\">\n",
       "  <thead>\n",
       "    <tr style=\"text-align: right;\">\n",
       "      <th></th>\n",
       "      <th>Name</th>\n",
       "      <th>Borough</th>\n",
       "      <th>lat</th>\n",
       "      <th>lng</th>\n",
       "      <th>avg_rating</th>\n",
       "    </tr>\n",
       "  </thead>\n",
       "  <tbody>\n",
       "    <tr>\n",
       "      <th>61</th>\n",
       "      <td>Williamsburg</td>\n",
       "      <td>Brooklyn</td>\n",
       "      <td>40.707144</td>\n",
       "      <td>-73.958115</td>\n",
       "      <td>8.60</td>\n",
       "    </tr>\n",
       "    <tr>\n",
       "      <th>99</th>\n",
       "      <td>Navy Yard</td>\n",
       "      <td>Brooklyn</td>\n",
       "      <td>40.698791</td>\n",
       "      <td>-73.971644</td>\n",
       "      <td>8.50</td>\n",
       "    </tr>\n",
       "    <tr>\n",
       "      <th>69</th>\n",
       "      <td>Fort Greene</td>\n",
       "      <td>Brooklyn</td>\n",
       "      <td>40.688527</td>\n",
       "      <td>-73.972906</td>\n",
       "      <td>8.50</td>\n",
       "    </tr>\n",
       "    <tr>\n",
       "      <th>88</th>\n",
       "      <td>Prospect Lefferts Gardens</td>\n",
       "      <td>Brooklyn</td>\n",
       "      <td>40.658420</td>\n",
       "      <td>-73.954899</td>\n",
       "      <td>8.30</td>\n",
       "    </tr>\n",
       "    <tr>\n",
       "      <th>84</th>\n",
       "      <td>Clinton Hill</td>\n",
       "      <td>Brooklyn</td>\n",
       "      <td>40.693229</td>\n",
       "      <td>-73.967843</td>\n",
       "      <td>8.30</td>\n",
       "    </tr>\n",
       "    <tr>\n",
       "      <th>98</th>\n",
       "      <td>South Side</td>\n",
       "      <td>Brooklyn</td>\n",
       "      <td>40.710861</td>\n",
       "      <td>-73.958001</td>\n",
       "      <td>8.25</td>\n",
       "    </tr>\n",
       "    <tr>\n",
       "      <th>89</th>\n",
       "      <td>Ocean Hill</td>\n",
       "      <td>Brooklyn</td>\n",
       "      <td>40.678403</td>\n",
       "      <td>-73.913068</td>\n",
       "      <td>8.20</td>\n",
       "    </tr>\n",
       "    <tr>\n",
       "      <th>261</th>\n",
       "      <td>Remsen Village</td>\n",
       "      <td>Brooklyn</td>\n",
       "      <td>40.652117</td>\n",
       "      <td>-73.916653</td>\n",
       "      <td>8.10</td>\n",
       "    </tr>\n",
       "    <tr>\n",
       "      <th>282</th>\n",
       "      <td>Vinegar Hill</td>\n",
       "      <td>Brooklyn</td>\n",
       "      <td>40.703321</td>\n",
       "      <td>-73.981116</td>\n",
       "      <td>8.05</td>\n",
       "    </tr>\n",
       "    <tr>\n",
       "      <th>101</th>\n",
       "      <td>Fort Hamilton</td>\n",
       "      <td>Brooklyn</td>\n",
       "      <td>40.614768</td>\n",
       "      <td>-74.031979</td>\n",
       "      <td>8.00</td>\n",
       "    </tr>\n",
       "  </tbody>\n",
       "</table>\n",
       "</div>"
      ],
      "text/plain": [
       "                          Name   Borough        lat        lng  avg_rating\n",
       "61                Williamsburg  Brooklyn  40.707144 -73.958115        8.60\n",
       "99                   Navy Yard  Brooklyn  40.698791 -73.971644        8.50\n",
       "69                 Fort Greene  Brooklyn  40.688527 -73.972906        8.50\n",
       "88   Prospect Lefferts Gardens  Brooklyn  40.658420 -73.954899        8.30\n",
       "84                Clinton Hill  Brooklyn  40.693229 -73.967843        8.30\n",
       "98                  South Side  Brooklyn  40.710861 -73.958001        8.25\n",
       "89                  Ocean Hill  Brooklyn  40.678403 -73.913068        8.20\n",
       "261             Remsen Village  Brooklyn  40.652117 -73.916653        8.10\n",
       "282               Vinegar Hill  Brooklyn  40.703321 -73.981116        8.05\n",
       "101              Fort Hamilton  Brooklyn  40.614768 -74.031979        8.00"
      ]
     },
     "execution_count": 95,
     "metadata": {},
     "output_type": "execute_result"
    }
   ],
   "source": [
    "neighbor_ratings = neighbor_ratings.sort_values(by= 'avg_rating', ascending = False)\n",
    "neighbor_ratings = neighbor_ratings.loc[neighbor_ratings['avg_rating'] > 0]\n",
    "neighbor_ratings.head(10)\n"
   ]
  },
  {
   "cell_type": "markdown",
   "metadata": {},
   "source": [
    "#### We see that there there are many coffee shop with high ratings, so let's look at a histogram of ratings: ####"
   ]
  },
  {
   "cell_type": "code",
   "execution_count": 96,
   "metadata": {
    "scrolled": true
   },
   "outputs": [
    {
     "data": {
      "image/png": "[encoded data removed]",
      "text/plain": [
       "<Figure size 432x288 with 1 Axes>"
      ]
     },
     "metadata": {
      "needs_background": "light"
     },
     "output_type": "display_data"
    }
   ],
   "source": [
    "neighbor_bins = neighbor_ratings.copy()\n",
    "\n",
    "bins =  [6.0, 6.5, 7.0, 7.5, 8.0, 8.5, 9.0]\n",
    "labels =  [6.0, 6.5, 7.0, 7.5, 8.0, 8.5]\n",
    "\n",
    "neighbor_bins['rating_bin'] = pd.cut(neighbor_bins['avg_rating'], bins=bins, labels=labels, include_lowest=True)\n",
    "neighbor_bins['rating_bin'] = neighbor_bins['rating_bin'].astype('float')\n",
    "\n",
    "neighbor_bins['rating_bin'].plot(kind='hist')\n",
    "\n",
    "plt.title('Average Coffee Shop Ratings for Brooklyn Neighborhoods') # add a title to the histogram\n",
    "plt.ylabel('Number of Neighborhoods') # add y-label\n",
    "plt.xlabel('Average Rating  (0-10)') # add x-label\n",
    "\n",
    "plt.show()"
   ]
  },
  {
   "cell_type": "code",
   "execution_count": 97,
   "metadata": {},
   "outputs": [
    {
     "data": {
      "text/plain": [
       "7.5    11\n",
       "8.0     8\n",
       "6.5     6\n",
       "7.0     6\n",
       "6.0     5\n",
       "8.5     1\n",
       "Name: rating_bin, dtype: int64"
      ]
     },
     "execution_count": 97,
     "metadata": {},
     "output_type": "execute_result"
    }
   ],
   "source": [
    "neighbor_bins['rating_bin'].value_counts()"
   ]
  },
  {
   "cell_type": "markdown",
   "metadata": {},
   "source": [
    "#### For the highest quality tour, we might to choose ratings of at least 8, so define some categories: ####\n",
    "Red = 'High'&nbsp;&nbsp;&nbsp;Orange = 'Medium'&nbsp;&nbsp;&nbsp; Yellow = 'Low'"
   ]
  },
  {
   "cell_type": "code",
   "execution_count": 124,
   "metadata": {
    "scrolled": true
   },
   "outputs": [],
   "source": [
    "#!conda install -c conda-forge folium=0.5.0 --yes\n",
    "import folium\n",
    "\n",
    "# lat, lon for Brooklyn\n",
    "latitude = 40.6469828\n",
    "longitude = -73.9429487\n",
    "\n",
    "colordict = {6.0: 'yellow', 6.5: 'yellow', 7.0: 'orange', 7.5:'orange', 8.0:'red', 8.5:'red' }\n",
    "\n",
    "ratings_map = folium.Map(location=[latitude, longitude], \n",
    "                         zoom_start=12,\n",
    "                         width='65%', height='100%', left='0%',)\n",
    "\n",
    "\n",
    "\n",
    "for nh,lat,lng,nbin,in zip(neighbor_bins['Name'],neighbor_bins['lat'],neighbor_bins['lng'],neighbor_bins['rating_bin']): \n",
    "    # Marker() takes location coordinates  \n",
    "    # as a list as an argument \n",
    "    folium.CircleMarker(\n",
    "        location=[lat,lng],\n",
    "        fill_color=colordict[nbin],\n",
    "        fill=True,\n",
    "        fill_opacity= 1,\n",
    "        color = 'grey',\n",
    "        radius = 6,\n",
    "        width = 1,\n",
    "        popup = (str(nh) + '<br>' + 'Avg Rating ' + str(nbin))\n",
    "    ).add_to(ratings_map)\n",
    "    \n",
    "# display the map of San Francisco  (use static image for this report)\n",
    "#ratings_map"
   ]
  },
  {
   "cell_type": "markdown",
   "metadata": {},
   "source": [
    "### The final analysis map: ###"
   ]
  },
  {
   "cell_type": "markdown",
   "metadata": {},
   "source": [
    "<img src=\"https://github.com/jimcser/Coursera_Capstone/raw/master/brook01.png\">"
   ]
  },
  {
   "cell_type": "markdown",
   "metadata": {},
   "source": [
    "### Obervations ###\n",
    "Without doing any formal cluster analysis, we can see that the 'High' rated venues are located in the north part of Brooklyn, near the DUMBO neighborhood; the 'Medium' neighborhoods in the northwest and west; 'Low\" scattered around the borough."
   ]
  },
  {
   "cell_type": "markdown",
   "metadata": {},
   "source": [
    "### Limitations of the Analysis ###\n",
    "\n",
    "The scope of the analysis was to use Foursquare venue data, but there are some limitations to what data can be retrieved.  <p>\n",
    "As for the geography of the search, we selected the centroid for each neighborhoo.  Foursquare only allows the sselected venues within a certain radius (500 m), which does not match the geographies of the neighborhoods.  A much better approach would be to assign a neighborhood name to each venue directly, either by a geocoding service or a GIS spatial overlay.<p>\n",
    "As one would imagine, the quality of the search data has many caveats.  Customer ratigs are notoriously fickle, especially with the very high and very low ratings, and many venues have no ratings yet. Ratings might be weighted with the number of 'likes', but this was not explored here. The 'coffee' venues are identified only by a keyword search of the descriptions, with no other details."
   ]
  },
  {
   "cell_type": "markdown",
   "metadata": {},
   "source": [
    "### Conclusions and Recommendation ###\n",
    "\n",
    "Using data provided by Foursquare and 'coffee tourism' neighborhoods in Brooklyn were ranked by the average customer rating.  Despite some issues, our broad qualatative analysis shows that the best areas to hold tours would be in the DUMBO section of Brooklyn, which has almost all the 'high' ratings and many of the 'medium' ratings. <p>\n",
    "If this project is succesful, this analysis can be applied to the other four boroughs to identify tour locations there. Tell your friend to go for it!"
   ]
  }
 ],
 "metadata": {
  "kernelspec": {
   "display_name": "Python 3",
   "language": "python",
   "name": "python3"
  },
  "language_info": {
   "codemirror_mode": {
    "name": "ipython",
    "version": 3
   },
   "file_extension": ".py",
   "mimetype": "text/x-python",
   "name": "python",
   "nbconvert_exporter": "python",
   "pygments_lexer": "ipython3",
   "version": "3.9.2"
  }
 },
 "nbformat": 4,
 "nbformat_minor": 1
}
