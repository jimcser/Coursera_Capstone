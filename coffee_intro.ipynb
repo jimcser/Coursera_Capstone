{
    "cells": [
        {
            "metadata": {
                "collapsed": true
            },
            "cell_type": "markdown",
            "source": "# Coffee Tourism with the Foresquare API\n## Capstone Project for IBM Data Science Course ##\n### Jim Cser, July 2020 ###"
        },
        {
            "metadata": {},
            "cell_type": "code",
            "source": "%%html\n<style>\n  table {margin-left: 0 !important;}\n</style>",
            "execution_count": 2,
            "outputs": [
                {
                    "output_type": "display_data",
                    "data": {
                        "text/plain": "<IPython.core.display.HTML object>",
                        "text/html": "<style>\n  table {margin-left: 0 !important;}\n</style>\n"
                    },
                    "metadata": {}
                }
            ]
        },
        {
            "metadata": {},
            "cell_type": "markdown",
            "source": "## Introduction  ##\nCoffee is the world's greatest beverage, and I want to spread the good word. I live in New York City, and I intend to start a business specializing in Coffee Tourism Tours. I can only run a few tours at first, so I need to find the best neighborhoods for them. Furthermore I want to choose the best coffee places, so I will take into account the venue ratings.\n\n\n\n## Data Sources ##\nThe approach will be to use Foursquare venue data, and use cluster analysis to define the best locations for the tours. At first I will look at the total number of coffee shops by neighborhood, then refine my analysis to weight the data by overall score and number of 'likes'.\n\n### New York City Population By Neighborhood Tabulation Areas, from Data.gov ###\n\n| ID | GEOMETRY | NAME | BOROUGH |\n| --- | --- | --- | --- |\n|0|POINT (-73.8472005205491 40.89470517661004)|Wakefield|Bronx|\n|1|POINT (-73.82993910812405 40.87429419303015)|Co-op City|Bronx|\n|2|POINT (-73.82780644716419 40.88755567735082)|Eastchester|Bronx|\n|3|POINT (-73.90564259591689 40.895437426903875)|Fieldston|Bronx|\n|4|POINT (-73.91258546108577 40.89083449389134)|Riverdale|Bronx|\n\n    \n    \n### Foursquare Venue data: ###\n\n| ID | categories | name| lat| lng |\n| --- | --- | --- | --- | --- |\n|0| Coffee Shop| For Five Coffee Roasters| 40.712240| -74.014915|\n|1| Coffee Shop|  WFM Coffee Bar| 40.715542| -74.011436|\n|2| Food Truck|  Hudson/Chambers Coffee Cart| 40.715638| -74.009613|\n|3| Coffee Shop|  Laughing Man Coffee & Tea| 40.714754| -74.017368|\n|4| Coffee Shop|  The Coffee Beanery| 40.714629| -74.015819|\n\n,\n"
        },
        {
            "metadata": {},
            "cell_type": "code",
            "source": "",
            "execution_count": null,
            "outputs": []
        },
        {
            "metadata": {},
            "cell_type": "code",
            "source": "",
            "execution_count": null,
            "outputs": []
        }
    ],
    "metadata": {
        "kernelspec": {
            "name": "python3",
            "display_name": "Python 3.6",
            "language": "python"
        },
        "language_info": {
            "name": "python",
            "version": "3.6.9",
            "mimetype": "text/x-python",
            "codemirror_mode": {
                "name": "ipython",
                "version": 3
            },
            "pygments_lexer": "ipython3",
            "nbconvert_exporter": "python",
            "file_extension": ".py"
        }
    },
    "nbformat": 4,
    "nbformat_minor": 1
}