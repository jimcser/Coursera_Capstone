{
    "cells": [
        {
            "metadata": {
                "collapsed": true
            },
            "cell_type": "markdown",
            "source": "# Coffee Tourism with the Foresquare API\n## Capstone Project for IBM Data Science Course ##\n### Jim Cser, July 2020 ###"
        },
        {
            "metadata": {},
            "cell_type": "markdown",
            "source": "### Introduction  ###\nCoffee is the world's greatest beverage, and I want to spread the good word. I live in New York City, and I intend to start a business specializing in Coffee Tourism Tours. I can only run a few tours at first, so I need to find the be. Furthermore I want to choose the best coffee places, so I will take into account the venue ratings.\n\n\n\n### Data Sources ###\nThe approach will be to use Foursquare venue data, and use cluster analysis to define the best locations for the tours. At first I will look at the total number of coffee shops by neighborhood, then refine my analysis to weight the data by overall score and number of 'likes'.\n\nNeighborhood Latitude and Longitude:\nNew York City Population By Neighborhood Tabulation Areas, from Data.gov\n\nFoursquare Venue data attributes:  ID, Name, Location, Categories, Rating, Likes\n\n\n\n\n\n\n\n,\n"
        },
        {
            "metadata": {},
            "cell_type": "code",
            "source": "",
            "execution_count": null,
            "outputs": []
        }
    ],
    "metadata": {
        "kernelspec": {
            "name": "python3",
            "display_name": "Python 3.6",
            "language": "python"
        },
        "language_info": {
            "name": "python",
            "version": "3.6.9",
            "mimetype": "text/x-python",
            "codemirror_mode": {
                "name": "ipython",
                "version": 3
            },
            "pygments_lexer": "ipython3",
            "nbconvert_exporter": "python",
            "file_extension": ".py"
        }
    },
    "nbformat": 4,
    "nbformat_minor": 1
}